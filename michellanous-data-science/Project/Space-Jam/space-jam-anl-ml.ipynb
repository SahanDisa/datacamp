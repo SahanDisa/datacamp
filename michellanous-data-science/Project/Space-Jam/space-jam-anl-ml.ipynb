{
 "metadata": {
  "language_info": {
   "codemirror_mode": {
    "name": "ipython",
    "version": 3
   },
   "file_extension": ".py",
   "mimetype": "text/x-python",
   "name": "python",
   "nbconvert_exporter": "python",
   "pygments_lexer": "ipython3",
   "version": "3.6.8-final"
  },
  "orig_nbformat": 2,
  "kernelspec": {
   "name": "python368jvsc74a57bd0f7b6bb42013a5637481957308d5a7306471b0750c3dc1fade55b6a2f7e8aac12",
   "display_name": "Python 3.6.8 64-bit"
  },
  "metadata": {
   "interpreter": {
    "hash": "f7b6bb42013a5637481957308d5a7306471b0750c3dc1fade55b6a2f7e8aac12"
   }
  }
 },
 "nbformat": 4,
 "nbformat_minor": 2,
 "cells": [
  {
   "source": [
    "import pandas as pd"
   ],
   "cell_type": "code",
   "metadata": {},
   "execution_count": 1,
   "outputs": []
  },
  {
   "cell_type": "code",
   "execution_count": 2,
   "metadata": {},
   "outputs": [],
   "source": [
    "# Import the CSV file and create a DataFrame.\n",
    "player_df_final = pd.read_csv('player_data_final.csv')"
   ]
  },
  {
   "cell_type": "code",
   "execution_count": 3,
   "metadata": {},
   "outputs": [
    {
     "output_type": "execute_result",
     "data": {
      "text/plain": [
       "    ID        player  points  possessions  team_pace         GP        MPG  \\\n",
       "26  31   tune_squad1  2049.0       1434.0      110.0  64.000000  38.800000   \n",
       "27  32   tune_squad2  1795.0       1481.8      112.1  62.000000  35.400000   \n",
       "28  33   tune_squad3  1805.0       1509.9      108.6  64.000000  35.400000   \n",
       "29  34   tune_squad4  1743.0       1422.4      112.9  64.000000  36.300000   \n",
       "30  35   tune_squad5  1963.0       1539.1      117.4  59.771429  35.208333   \n",
       "31  36   tune_squad6  2062.0       1505.7      111.5  59.771429  37.000000   \n",
       "32  37   tune_squad7  1845.0       1435.7      113.1  69.000000  36.900000   \n",
       "33  38   tune_squad8  1778.0       1526.4      109.3  66.000000  34.900000   \n",
       "34  39   tune_squad9  1901.0       1444.1      109.7  67.000000  36.500000   \n",
       "35  41  tune_squad11  2030.0       1431.0      112.3  68.000000  37.000000   \n",
       "36  42  tune_squad12  1631.0       1465.7      110.1  66.000000  37.500000   \n",
       "37  43  tune_squad13  1828.0       1507.2      112.7  64.000000  36.500000   \n",
       "38  44  tune_squad14  1821.0       1443.7      118.8  66.000000  36.600000   \n",
       "39  45  tune_squad15  1740.0       1443.9      114.1  68.000000  37.100000   \n",
       "40  46  tune_squad16  1993.0       1459.0      112.5  59.771429  36.900000   \n",
       "\n",
       "      TS%   AST    TO   USG  ORR   DRR  REBR        PER  \n",
       "26  0.619  31.5  14.9  35.5  8.3  17.6  12.8  28.440000  \n",
       "27  0.608  31.9  14.5  32.0  6.5  22.5  12.9  23.340000  \n",
       "28  0.622  27.9  13.9  36.0  5.9  27.7  12.2  22.410000  \n",
       "29  0.619  30.9  15.6  34.5  5.9  18.9  14.8  29.853138  \n",
       "30  0.633  32.3  16.2  34.0  5.9  19.8  13.1  27.160000  \n",
       "31  0.620  29.8  15.6  36.2  4.9  23.9  14.7  27.860000  \n",
       "32  0.634  33.2  14.0  36.5  4.1  21.5  16.4  34.260000  \n",
       "33  0.612  30.6  15.9  35.9  5.5  18.8  13.7  28.650000  \n",
       "34  0.609  27.2  14.8  35.5  5.0  21.8   8.9  20.120000  \n",
       "35  0.618  32.5  15.3  34.5  5.7  15.7  13.2  30.070000  \n",
       "36  0.613  28.4  14.4  35.7  6.5  20.7  14.0  28.400000  \n",
       "37  0.618  31.3  14.0  34.9  5.9  21.3  14.5  29.094310  \n",
       "38  0.609  27.3  13.5  35.8  7.0  23.8  11.5  22.960000  \n",
       "39  0.611  26.6  15.2  29.3  8.3  17.7  11.1  21.220000  \n",
       "40  0.627  30.4  15.0  33.7  6.3  19.3  14.1  28.760000  "
      ],
      "text/html": "<div>\n<style scoped>\n    .dataframe tbody tr th:only-of-type {\n        vertical-align: middle;\n    }\n\n    .dataframe tbody tr th {\n        vertical-align: top;\n    }\n\n    .dataframe thead th {\n        text-align: right;\n    }\n</style>\n<table border=\"1\" class=\"dataframe\">\n  <thead>\n    <tr style=\"text-align: right;\">\n      <th></th>\n      <th>ID</th>\n      <th>player</th>\n      <th>points</th>\n      <th>possessions</th>\n      <th>team_pace</th>\n      <th>GP</th>\n      <th>MPG</th>\n      <th>TS%</th>\n      <th>AST</th>\n      <th>TO</th>\n      <th>USG</th>\n      <th>ORR</th>\n      <th>DRR</th>\n      <th>REBR</th>\n      <th>PER</th>\n    </tr>\n  </thead>\n  <tbody>\n    <tr>\n      <th>26</th>\n      <td>31</td>\n      <td>tune_squad1</td>\n      <td>2049.0</td>\n      <td>1434.0</td>\n      <td>110.0</td>\n      <td>64.000000</td>\n      <td>38.800000</td>\n      <td>0.619</td>\n      <td>31.5</td>\n      <td>14.9</td>\n      <td>35.5</td>\n      <td>8.3</td>\n      <td>17.6</td>\n      <td>12.8</td>\n      <td>28.440000</td>\n    </tr>\n    <tr>\n      <th>27</th>\n      <td>32</td>\n      <td>tune_squad2</td>\n      <td>1795.0</td>\n      <td>1481.8</td>\n      <td>112.1</td>\n      <td>62.000000</td>\n      <td>35.400000</td>\n      <td>0.608</td>\n      <td>31.9</td>\n      <td>14.5</td>\n      <td>32.0</td>\n      <td>6.5</td>\n      <td>22.5</td>\n      <td>12.9</td>\n      <td>23.340000</td>\n    </tr>\n    <tr>\n      <th>28</th>\n      <td>33</td>\n      <td>tune_squad3</td>\n      <td>1805.0</td>\n      <td>1509.9</td>\n      <td>108.6</td>\n      <td>64.000000</td>\n      <td>35.400000</td>\n      <td>0.622</td>\n      <td>27.9</td>\n      <td>13.9</td>\n      <td>36.0</td>\n      <td>5.9</td>\n      <td>27.7</td>\n      <td>12.2</td>\n      <td>22.410000</td>\n    </tr>\n    <tr>\n      <th>29</th>\n      <td>34</td>\n      <td>tune_squad4</td>\n      <td>1743.0</td>\n      <td>1422.4</td>\n      <td>112.9</td>\n      <td>64.000000</td>\n      <td>36.300000</td>\n      <td>0.619</td>\n      <td>30.9</td>\n      <td>15.6</td>\n      <td>34.5</td>\n      <td>5.9</td>\n      <td>18.9</td>\n      <td>14.8</td>\n      <td>29.853138</td>\n    </tr>\n    <tr>\n      <th>30</th>\n      <td>35</td>\n      <td>tune_squad5</td>\n      <td>1963.0</td>\n      <td>1539.1</td>\n      <td>117.4</td>\n      <td>59.771429</td>\n      <td>35.208333</td>\n      <td>0.633</td>\n      <td>32.3</td>\n      <td>16.2</td>\n      <td>34.0</td>\n      <td>5.9</td>\n      <td>19.8</td>\n      <td>13.1</td>\n      <td>27.160000</td>\n    </tr>\n    <tr>\n      <th>31</th>\n      <td>36</td>\n      <td>tune_squad6</td>\n      <td>2062.0</td>\n      <td>1505.7</td>\n      <td>111.5</td>\n      <td>59.771429</td>\n      <td>37.000000</td>\n      <td>0.620</td>\n      <td>29.8</td>\n      <td>15.6</td>\n      <td>36.2</td>\n      <td>4.9</td>\n      <td>23.9</td>\n      <td>14.7</td>\n      <td>27.860000</td>\n    </tr>\n    <tr>\n      <th>32</th>\n      <td>37</td>\n      <td>tune_squad7</td>\n      <td>1845.0</td>\n      <td>1435.7</td>\n      <td>113.1</td>\n      <td>69.000000</td>\n      <td>36.900000</td>\n      <td>0.634</td>\n      <td>33.2</td>\n      <td>14.0</td>\n      <td>36.5</td>\n      <td>4.1</td>\n      <td>21.5</td>\n      <td>16.4</td>\n      <td>34.260000</td>\n    </tr>\n    <tr>\n      <th>33</th>\n      <td>38</td>\n      <td>tune_squad8</td>\n      <td>1778.0</td>\n      <td>1526.4</td>\n      <td>109.3</td>\n      <td>66.000000</td>\n      <td>34.900000</td>\n      <td>0.612</td>\n      <td>30.6</td>\n      <td>15.9</td>\n      <td>35.9</td>\n      <td>5.5</td>\n      <td>18.8</td>\n      <td>13.7</td>\n      <td>28.650000</td>\n    </tr>\n    <tr>\n      <th>34</th>\n      <td>39</td>\n      <td>tune_squad9</td>\n      <td>1901.0</td>\n      <td>1444.1</td>\n      <td>109.7</td>\n      <td>67.000000</td>\n      <td>36.500000</td>\n      <td>0.609</td>\n      <td>27.2</td>\n      <td>14.8</td>\n      <td>35.5</td>\n      <td>5.0</td>\n      <td>21.8</td>\n      <td>8.9</td>\n      <td>20.120000</td>\n    </tr>\n    <tr>\n      <th>35</th>\n      <td>41</td>\n      <td>tune_squad11</td>\n      <td>2030.0</td>\n      <td>1431.0</td>\n      <td>112.3</td>\n      <td>68.000000</td>\n      <td>37.000000</td>\n      <td>0.618</td>\n      <td>32.5</td>\n      <td>15.3</td>\n      <td>34.5</td>\n      <td>5.7</td>\n      <td>15.7</td>\n      <td>13.2</td>\n      <td>30.070000</td>\n    </tr>\n    <tr>\n      <th>36</th>\n      <td>42</td>\n      <td>tune_squad12</td>\n      <td>1631.0</td>\n      <td>1465.7</td>\n      <td>110.1</td>\n      <td>66.000000</td>\n      <td>37.500000</td>\n      <td>0.613</td>\n      <td>28.4</td>\n      <td>14.4</td>\n      <td>35.7</td>\n      <td>6.5</td>\n      <td>20.7</td>\n      <td>14.0</td>\n      <td>28.400000</td>\n    </tr>\n    <tr>\n      <th>37</th>\n      <td>43</td>\n      <td>tune_squad13</td>\n      <td>1828.0</td>\n      <td>1507.2</td>\n      <td>112.7</td>\n      <td>64.000000</td>\n      <td>36.500000</td>\n      <td>0.618</td>\n      <td>31.3</td>\n      <td>14.0</td>\n      <td>34.9</td>\n      <td>5.9</td>\n      <td>21.3</td>\n      <td>14.5</td>\n      <td>29.094310</td>\n    </tr>\n    <tr>\n      <th>38</th>\n      <td>44</td>\n      <td>tune_squad14</td>\n      <td>1821.0</td>\n      <td>1443.7</td>\n      <td>118.8</td>\n      <td>66.000000</td>\n      <td>36.600000</td>\n      <td>0.609</td>\n      <td>27.3</td>\n      <td>13.5</td>\n      <td>35.8</td>\n      <td>7.0</td>\n      <td>23.8</td>\n      <td>11.5</td>\n      <td>22.960000</td>\n    </tr>\n    <tr>\n      <th>39</th>\n      <td>45</td>\n      <td>tune_squad15</td>\n      <td>1740.0</td>\n      <td>1443.9</td>\n      <td>114.1</td>\n      <td>68.000000</td>\n      <td>37.100000</td>\n      <td>0.611</td>\n      <td>26.6</td>\n      <td>15.2</td>\n      <td>29.3</td>\n      <td>8.3</td>\n      <td>17.7</td>\n      <td>11.1</td>\n      <td>21.220000</td>\n    </tr>\n    <tr>\n      <th>40</th>\n      <td>46</td>\n      <td>tune_squad16</td>\n      <td>1993.0</td>\n      <td>1459.0</td>\n      <td>112.5</td>\n      <td>59.771429</td>\n      <td>36.900000</td>\n      <td>0.627</td>\n      <td>30.4</td>\n      <td>15.0</td>\n      <td>33.7</td>\n      <td>6.3</td>\n      <td>19.3</td>\n      <td>14.1</td>\n      <td>28.760000</td>\n    </tr>\n  </tbody>\n</table>\n</div>"
     },
     "metadata": {},
     "execution_count": 3
    }
   ],
   "source": [
    "# Create a DataFrame of only Tune Squad players.\n",
    "ts_df = player_df_final.iloc[26: , :]\n",
    "ts_df"
   ]
  },
  {
   "cell_type": "code",
   "execution_count": 4,
   "metadata": {},
   "outputs": [
    {
     "output_type": "execute_result",
     "data": {
      "text/plain": [
       "    ID              player\n",
       "0   31           Sylvester\n",
       "1   32  Marvin the Martian\n",
       "2   33         Road Runner\n",
       "3   34     Foghorn Leghorn\n",
       "4   35          Bugs Bunny\n",
       "5   36          Elmer Fudd\n",
       "6   37          Lola Bunny\n",
       "7   38           Porky Pig\n",
       "8   39     Tasmanian Devil\n",
       "9   40        Yosemite Sam\n",
       "10  41            Gossamer\n",
       "11  42              Granny\n",
       "12  43      Wile E. Coyote\n",
       "13  44              Tweety\n",
       "14  45            Penelope\n",
       "15  46          Daffy Duck"
      ],
      "text/html": "<div>\n<style scoped>\n    .dataframe tbody tr th:only-of-type {\n        vertical-align: middle;\n    }\n\n    .dataframe tbody tr th {\n        vertical-align: top;\n    }\n\n    .dataframe thead th {\n        text-align: right;\n    }\n</style>\n<table border=\"1\" class=\"dataframe\">\n  <thead>\n    <tr style=\"text-align: right;\">\n      <th></th>\n      <th>ID</th>\n      <th>player</th>\n    </tr>\n  </thead>\n  <tbody>\n    <tr>\n      <th>0</th>\n      <td>31</td>\n      <td>Sylvester</td>\n    </tr>\n    <tr>\n      <th>1</th>\n      <td>32</td>\n      <td>Marvin the Martian</td>\n    </tr>\n    <tr>\n      <th>2</th>\n      <td>33</td>\n      <td>Road Runner</td>\n    </tr>\n    <tr>\n      <th>3</th>\n      <td>34</td>\n      <td>Foghorn Leghorn</td>\n    </tr>\n    <tr>\n      <th>4</th>\n      <td>35</td>\n      <td>Bugs Bunny</td>\n    </tr>\n    <tr>\n      <th>5</th>\n      <td>36</td>\n      <td>Elmer Fudd</td>\n    </tr>\n    <tr>\n      <th>6</th>\n      <td>37</td>\n      <td>Lola Bunny</td>\n    </tr>\n    <tr>\n      <th>7</th>\n      <td>38</td>\n      <td>Porky Pig</td>\n    </tr>\n    <tr>\n      <th>8</th>\n      <td>39</td>\n      <td>Tasmanian Devil</td>\n    </tr>\n    <tr>\n      <th>9</th>\n      <td>40</td>\n      <td>Yosemite Sam</td>\n    </tr>\n    <tr>\n      <th>10</th>\n      <td>41</td>\n      <td>Gossamer</td>\n    </tr>\n    <tr>\n      <th>11</th>\n      <td>42</td>\n      <td>Granny</td>\n    </tr>\n    <tr>\n      <th>12</th>\n      <td>43</td>\n      <td>Wile E. Coyote</td>\n    </tr>\n    <tr>\n      <th>13</th>\n      <td>44</td>\n      <td>Tweety</td>\n    </tr>\n    <tr>\n      <th>14</th>\n      <td>45</td>\n      <td>Penelope</td>\n    </tr>\n    <tr>\n      <th>15</th>\n      <td>46</td>\n      <td>Daffy Duck</td>\n    </tr>\n  </tbody>\n</table>\n</div>"
     },
     "metadata": {},
     "execution_count": 4
    }
   ],
   "source": [
    "# Import Tune Squad player names.\n",
    "ts_name_df = pd.read_csv('tune_squad.csv', sep='\\t')\n",
    "ts_name_df"
   ]
  },
  {
   "cell_type": "code",
   "execution_count": 5,
   "metadata": {},
   "outputs": [
    {
     "output_type": "execute_result",
     "data": {
      "text/plain": [
       "   ID  player_type  points  possessions  team_pace         GP        MPG  \\\n",
       "0  31  tune_squad1  2049.0       1434.0      110.0  64.000000  38.800000   \n",
       "1  32  tune_squad2  1795.0       1481.8      112.1  62.000000  35.400000   \n",
       "2  33  tune_squad3  1805.0       1509.9      108.6  64.000000  35.400000   \n",
       "3  34  tune_squad4  1743.0       1422.4      112.9  64.000000  36.300000   \n",
       "4  35  tune_squad5  1963.0       1539.1      117.4  59.771429  35.208333   \n",
       "\n",
       "     TS%   AST    TO   USG  ORR   DRR  REBR        PER         player_name  \n",
       "0  0.619  31.5  14.9  35.5  8.3  17.6  12.8  28.440000           Sylvester  \n",
       "1  0.608  31.9  14.5  32.0  6.5  22.5  12.9  23.340000  Marvin the Martian  \n",
       "2  0.622  27.9  13.9  36.0  5.9  27.7  12.2  22.410000         Road Runner  \n",
       "3  0.619  30.9  15.6  34.5  5.9  18.9  14.8  29.853138     Foghorn Leghorn  \n",
       "4  0.633  32.3  16.2  34.0  5.9  19.8  13.1  27.160000          Bugs Bunny  "
      ],
      "text/html": "<div>\n<style scoped>\n    .dataframe tbody tr th:only-of-type {\n        vertical-align: middle;\n    }\n\n    .dataframe tbody tr th {\n        vertical-align: top;\n    }\n\n    .dataframe thead th {\n        text-align: right;\n    }\n</style>\n<table border=\"1\" class=\"dataframe\">\n  <thead>\n    <tr style=\"text-align: right;\">\n      <th></th>\n      <th>ID</th>\n      <th>player_type</th>\n      <th>points</th>\n      <th>possessions</th>\n      <th>team_pace</th>\n      <th>GP</th>\n      <th>MPG</th>\n      <th>TS%</th>\n      <th>AST</th>\n      <th>TO</th>\n      <th>USG</th>\n      <th>ORR</th>\n      <th>DRR</th>\n      <th>REBR</th>\n      <th>PER</th>\n      <th>player_name</th>\n    </tr>\n  </thead>\n  <tbody>\n    <tr>\n      <th>0</th>\n      <td>31</td>\n      <td>tune_squad1</td>\n      <td>2049.0</td>\n      <td>1434.0</td>\n      <td>110.0</td>\n      <td>64.000000</td>\n      <td>38.800000</td>\n      <td>0.619</td>\n      <td>31.5</td>\n      <td>14.9</td>\n      <td>35.5</td>\n      <td>8.3</td>\n      <td>17.6</td>\n      <td>12.8</td>\n      <td>28.440000</td>\n      <td>Sylvester</td>\n    </tr>\n    <tr>\n      <th>1</th>\n      <td>32</td>\n      <td>tune_squad2</td>\n      <td>1795.0</td>\n      <td>1481.8</td>\n      <td>112.1</td>\n      <td>62.000000</td>\n      <td>35.400000</td>\n      <td>0.608</td>\n      <td>31.9</td>\n      <td>14.5</td>\n      <td>32.0</td>\n      <td>6.5</td>\n      <td>22.5</td>\n      <td>12.9</td>\n      <td>23.340000</td>\n      <td>Marvin the Martian</td>\n    </tr>\n    <tr>\n      <th>2</th>\n      <td>33</td>\n      <td>tune_squad3</td>\n      <td>1805.0</td>\n      <td>1509.9</td>\n      <td>108.6</td>\n      <td>64.000000</td>\n      <td>35.400000</td>\n      <td>0.622</td>\n      <td>27.9</td>\n      <td>13.9</td>\n      <td>36.0</td>\n      <td>5.9</td>\n      <td>27.7</td>\n      <td>12.2</td>\n      <td>22.410000</td>\n      <td>Road Runner</td>\n    </tr>\n    <tr>\n      <th>3</th>\n      <td>34</td>\n      <td>tune_squad4</td>\n      <td>1743.0</td>\n      <td>1422.4</td>\n      <td>112.9</td>\n      <td>64.000000</td>\n      <td>36.300000</td>\n      <td>0.619</td>\n      <td>30.9</td>\n      <td>15.6</td>\n      <td>34.5</td>\n      <td>5.9</td>\n      <td>18.9</td>\n      <td>14.8</td>\n      <td>29.853138</td>\n      <td>Foghorn Leghorn</td>\n    </tr>\n    <tr>\n      <th>4</th>\n      <td>35</td>\n      <td>tune_squad5</td>\n      <td>1963.0</td>\n      <td>1539.1</td>\n      <td>117.4</td>\n      <td>59.771429</td>\n      <td>35.208333</td>\n      <td>0.633</td>\n      <td>32.3</td>\n      <td>16.2</td>\n      <td>34.0</td>\n      <td>5.9</td>\n      <td>19.8</td>\n      <td>13.1</td>\n      <td>27.160000</td>\n      <td>Bugs Bunny</td>\n    </tr>\n  </tbody>\n</table>\n</div>"
     },
     "metadata": {},
     "execution_count": 5
    }
   ],
   "source": [
    "# Merge the two DataFrames.\n",
    "ts_df = pd.merge(ts_df, ts_name_df, on='ID', how='left', suffixes=('_type', '_name'))\n",
    "ts_df.head()"
   ]
  },
  {
   "cell_type": "code",
   "execution_count": 6,
   "metadata": {},
   "outputs": [
    {
     "output_type": "execute_result",
     "data": {
      "text/plain": [
       "   ID         player_name  points  possessions  team_pace         GP  \\\n",
       "0  31           Sylvester  2049.0       1434.0      110.0  64.000000   \n",
       "1  32  Marvin the Martian  1795.0       1481.8      112.1  62.000000   \n",
       "2  33         Road Runner  1805.0       1509.9      108.6  64.000000   \n",
       "3  34     Foghorn Leghorn  1743.0       1422.4      112.9  64.000000   \n",
       "4  35          Bugs Bunny  1963.0       1539.1      117.4  59.771429   \n",
       "\n",
       "         MPG    TS%   AST    TO   USG  ORR   DRR  REBR        PER  \n",
       "0  38.800000  0.619  31.5  14.9  35.5  8.3  17.6  12.8  28.440000  \n",
       "1  35.400000  0.608  31.9  14.5  32.0  6.5  22.5  12.9  23.340000  \n",
       "2  35.400000  0.622  27.9  13.9  36.0  5.9  27.7  12.2  22.410000  \n",
       "3  36.300000  0.619  30.9  15.6  34.5  5.9  18.9  14.8  29.853138  \n",
       "4  35.208333  0.633  32.3  16.2  34.0  5.9  19.8  13.1  27.160000  "
      ],
      "text/html": "<div>\n<style scoped>\n    .dataframe tbody tr th:only-of-type {\n        vertical-align: middle;\n    }\n\n    .dataframe tbody tr th {\n        vertical-align: top;\n    }\n\n    .dataframe thead th {\n        text-align: right;\n    }\n</style>\n<table border=\"1\" class=\"dataframe\">\n  <thead>\n    <tr style=\"text-align: right;\">\n      <th></th>\n      <th>ID</th>\n      <th>player_name</th>\n      <th>points</th>\n      <th>possessions</th>\n      <th>team_pace</th>\n      <th>GP</th>\n      <th>MPG</th>\n      <th>TS%</th>\n      <th>AST</th>\n      <th>TO</th>\n      <th>USG</th>\n      <th>ORR</th>\n      <th>DRR</th>\n      <th>REBR</th>\n      <th>PER</th>\n    </tr>\n  </thead>\n  <tbody>\n    <tr>\n      <th>0</th>\n      <td>31</td>\n      <td>Sylvester</td>\n      <td>2049.0</td>\n      <td>1434.0</td>\n      <td>110.0</td>\n      <td>64.000000</td>\n      <td>38.800000</td>\n      <td>0.619</td>\n      <td>31.5</td>\n      <td>14.9</td>\n      <td>35.5</td>\n      <td>8.3</td>\n      <td>17.6</td>\n      <td>12.8</td>\n      <td>28.440000</td>\n    </tr>\n    <tr>\n      <th>1</th>\n      <td>32</td>\n      <td>Marvin the Martian</td>\n      <td>1795.0</td>\n      <td>1481.8</td>\n      <td>112.1</td>\n      <td>62.000000</td>\n      <td>35.400000</td>\n      <td>0.608</td>\n      <td>31.9</td>\n      <td>14.5</td>\n      <td>32.0</td>\n      <td>6.5</td>\n      <td>22.5</td>\n      <td>12.9</td>\n      <td>23.340000</td>\n    </tr>\n    <tr>\n      <th>2</th>\n      <td>33</td>\n      <td>Road Runner</td>\n      <td>1805.0</td>\n      <td>1509.9</td>\n      <td>108.6</td>\n      <td>64.000000</td>\n      <td>35.400000</td>\n      <td>0.622</td>\n      <td>27.9</td>\n      <td>13.9</td>\n      <td>36.0</td>\n      <td>5.9</td>\n      <td>27.7</td>\n      <td>12.2</td>\n      <td>22.410000</td>\n    </tr>\n    <tr>\n      <th>3</th>\n      <td>34</td>\n      <td>Foghorn Leghorn</td>\n      <td>1743.0</td>\n      <td>1422.4</td>\n      <td>112.9</td>\n      <td>64.000000</td>\n      <td>36.300000</td>\n      <td>0.619</td>\n      <td>30.9</td>\n      <td>15.6</td>\n      <td>34.5</td>\n      <td>5.9</td>\n      <td>18.9</td>\n      <td>14.8</td>\n      <td>29.853138</td>\n    </tr>\n    <tr>\n      <th>4</th>\n      <td>35</td>\n      <td>Bugs Bunny</td>\n      <td>1963.0</td>\n      <td>1539.1</td>\n      <td>117.4</td>\n      <td>59.771429</td>\n      <td>35.208333</td>\n      <td>0.633</td>\n      <td>32.3</td>\n      <td>16.2</td>\n      <td>34.0</td>\n      <td>5.9</td>\n      <td>19.8</td>\n      <td>13.1</td>\n      <td>27.160000</td>\n    </tr>\n  </tbody>\n</table>\n</div>"
     },
     "metadata": {},
     "execution_count": 6
    }
   ],
   "source": [
    "# Rearrange the columns to put the ID and player_name columns next to each other.\n",
    "column_list = list(ts_df)\n",
    "\n",
    "player_name = column_list.pop()\n",
    "column_list[1] = player_name\n",
    "\n",
    "ts_df = ts_df[column_list]\n",
    "ts_df.head()"
   ]
  },
  {
   "cell_type": "code",
   "execution_count": 7,
   "metadata": {},
   "outputs": [
    {
     "output_type": "execute_result",
     "data": {
      "text/plain": [
       "TS%     0.008262\n",
       "AST     2.140494\n",
       "TO      0.797197\n",
       "USG     1.892718\n",
       "ORR     1.139465\n",
       "DRR     3.017962\n",
       "REBR    1.802564\n",
       "dtype: float64"
      ]
     },
     "metadata": {},
     "execution_count": 7
    }
   ],
   "source": [
    "# Create a list of only the column names we are interested in.\n",
    "game_stat_cols = list(ts_df.iloc[:, 7:-1])\n",
    "game_stat_stdevs = []\n",
    "\n",
    "# Create a list of standard deviations for each stat.\n",
    "for stat in game_stat_cols:\n",
    "    game_stat_stdevs.append(ts_df[stat].std())\n",
    "\n",
    "# Create a Series of the standard deviations, with the stat names as the index.\n",
    "stdev_s = pd.Series(game_stat_stdevs, index=game_stat_cols)\n",
    "stdev_s"
   ]
  },
  {
   "cell_type": "code",
   "execution_count": 8,
   "metadata": {},
   "outputs": [],
   "source": [
    "# Import the models and libraries we need.\n",
    "from sklearn.linear_model import LinearRegression\n",
    "from numpy.random import randn\n",
    "\n",
    "# Get the dependent and independent variables for modeling the PER.\n",
    "X = player_df_final.iloc[:, 7:-1].to_numpy()\n",
    "y = player_df_final.iloc[:, -1]"
   ]
  },
  {
   "cell_type": "code",
   "execution_count": 9,
   "metadata": {},
   "outputs": [
    {
     "output_type": "execute_result",
     "data": {
      "text/plain": [
       "LinearRegression(copy_X=True, fit_intercept=True, n_jobs=None, normalize=False)"
      ]
     },
     "metadata": {},
     "execution_count": 9
    }
   ],
   "source": [
    "# Define and fit the model.\n",
    "lin_reg = LinearRegression()\n",
    "lin_reg.fit(X, y)"
   ]
  },
  {
   "cell_type": "code",
   "execution_count": 10,
   "metadata": {},
   "outputs": [
    {
     "output_type": "stream",
     "name": "stdout",
     "text": [
      "Iteration # \thigh PER \tlow PER\n",
      "Iteration 1 \tLola Bunny \tPenelope\n",
      "Iteration 2 \tFoghorn Leghorn \tTasmanian Devil\n",
      "Iteration 3 \tFoghorn Leghorn \tTasmanian Devil\n",
      "Iteration 4 \tLola Bunny \tPenelope\n",
      "Iteration 5 \tLola Bunny \tTasmanian Devil\n",
      "Iteration 6 \tLola Bunny \tTasmanian Devil\n",
      "Iteration 7 \tFoghorn Leghorn \tTasmanian Devil\n",
      "Iteration 8 \tLola Bunny \tMarvin the Martian\n",
      "Iteration 9 \tLola Bunny \tPenelope\n",
      "Iteration 10 \tLola Bunny \tTasmanian Devil\n"
     ]
    }
   ],
   "source": [
    "# Print the player with the highest and lower PER for each iteration.\n",
    "print('Iteration # \\thigh PER \\tlow PER')\n",
    "\n",
    "# Run the simulation 10 times.\n",
    "for i in range(10):\n",
    "\n",
    "    # Define an empty temporary DataFrame for each iteration.\n",
    "    # The columns of this DataFrame are the player stats and the index is the players' names.\n",
    "    game_df = pd.DataFrame(columns=game_stat_cols, index=list(ts_df['player_name']))\n",
    "    \n",
    "    # Loop through each stat.\n",
    "    for stat in game_stat_cols:\n",
    "        \n",
    "        # Each player's stats are used to generate a random value for each iteration.\n",
    "        game_df[stat] = list(ts_df[stat] + randn(len(ts_df)) * stdev_s[stat])\n",
    "    \n",
    "    # Use the fitted model to predict players' PERs based on the randomized data.\n",
    "    game_df['PER'] = lin_reg.predict(game_df)\n",
    "\n",
    "    # Print the player with the highest and lower PER for each iteration.\n",
    "    print('Iteration {}'.format(i+1) + ' \\t' + game_df['PER'].idxmax() + ' \\t' + game_df['PER'].idxmin())"
   ]
  },
  {
   "cell_type": "code",
   "execution_count": 11,
   "metadata": {},
   "outputs": [
    {
     "output_type": "execute_result",
     "data": {
      "text/plain": [
       "                                 TS%        AST         TO        USG  \\\n",
       "minutes player_name                                                     \n",
       "0       Sylvester           0.627804  30.605824  15.407508  37.050682   \n",
       "        Marvin the Martian  0.616650  30.858868  14.339997  34.251295   \n",
       "        Road Runner         0.625375  30.327803  14.198592  38.033652   \n",
       "        Foghorn Leghorn     0.629400  29.477092  16.305858  30.398764   \n",
       "        Bugs Bunny          0.635023  31.299344  15.240370  32.242698   \n",
       "        Elmer Fudd          0.606522  27.663836  14.132228  34.155710   \n",
       "        Lola Bunny          0.629215  38.301638  13.960735  37.682314   \n",
       "        Porky Pig           0.620064  28.385435  15.804618  33.756754   \n",
       "        Tasmanian Devil     0.614479  27.070016  13.958168  36.806543   \n",
       "        Gossamer            0.611664  35.846031  15.048376  33.707723   \n",
       "        Granny              0.607867  29.221368  14.499400  34.603977   \n",
       "        Wile E. Coyote      0.614146  30.113717  13.986441  35.184876   \n",
       "        Tweety              0.610627  25.172249  13.966565  37.397716   \n",
       "        Penelope            0.624044  25.455962  14.112634  32.502500   \n",
       "        Daffy Duck          0.634152  23.864587  14.392068  32.585187   \n",
       "12      Sylvester           0.623182  32.828331  14.760054  37.048478   \n",
       "        Marvin the Martian  0.613970  33.941587  15.699656  30.559994   \n",
       "        Road Runner         0.618509  26.655104  13.441790  35.958562   \n",
       "        Foghorn Leghorn     0.638164  30.039388  15.656668  34.863327   \n",
       "        Bugs Bunny          0.626782  29.389865  15.608182  34.652321   \n",
       "        Elmer Fudd          0.621710  31.068462  15.417930  30.587819   \n",
       "        Lola Bunny          0.634587  28.050618  14.239441  35.907694   \n",
       "        Porky Pig           0.611441  28.820212  16.747406  34.997930   \n",
       "        Tasmanian Devil     0.600939  24.379775  14.437137  32.877579   \n",
       "        Gossamer            0.607551  32.764622  16.512705  34.756073   \n",
       "        Granny              0.604841  27.206425  13.011896  33.967729   \n",
       "        Wile E. Coyote      0.622624  29.652167  14.597058  34.493921   \n",
       "        Tweety              0.597564  26.162937  13.664155  35.758032   \n",
       "        Penelope            0.616408  24.961170  14.312722  32.376707   \n",
       "        Daffy Duck          0.636969  26.918664  15.066418  34.298309   \n",
       "24      Sylvester           0.619963  33.978248  14.388750  34.143890   \n",
       "        Marvin the Martian  0.598487  30.203781  13.841644  31.757456   \n",
       "        Road Runner         0.619712  31.993909  13.655067  36.616227   \n",
       "        Foghorn Leghorn     0.631004  29.472382  16.954586  35.751655   \n",
       "        Bugs Bunny          0.632235  34.122609  15.513997  36.578451   \n",
       "        Elmer Fudd          0.616814  29.810204  16.681390  37.561010   \n",
       "        Lola Bunny          0.624664  32.208888  13.650125  34.268015   \n",
       "        Porky Pig           0.618983  29.598536  15.823111  35.273444   \n",
       "        Tasmanian Devil     0.616287  26.566976  15.209271  38.174355   \n",
       "        Gossamer            0.623345  30.004611  14.185586  35.601127   \n",
       "        Granny              0.605481  29.954579  14.076107  34.208456   \n",
       "        Wile E. Coyote      0.614269  32.858108  13.829659  35.118521   \n",
       "        Tweety              0.606795  25.086979  13.442209  34.144434   \n",
       "        Penelope            0.619339  21.339692  14.602006  28.922255   \n",
       "        Daffy Duck          0.615795  34.289271  14.498480  34.125514   \n",
       "36      Sylvester           0.623608  29.017247  15.424915  36.481418   \n",
       "        Marvin the Martian  0.595691  28.158937  16.576260  32.598561   \n",
       "        Road Runner         0.630776  32.476801  13.464371  34.865749   \n",
       "        Foghorn Leghorn     0.609252  27.257600  15.696951  33.936204   \n",
       "        Bugs Bunny          0.627290  31.299575  15.952183  33.883072   \n",
       "        Elmer Fudd          0.617206  31.388085  16.923140  31.968008   \n",
       "        Lola Bunny          0.625444  31.553053  12.178814  34.852181   \n",
       "        Porky Pig           0.611042  30.531983  15.296561  33.859060   \n",
       "        Tasmanian Devil     0.606098  24.761660  14.913487  35.387811   \n",
       "        Gossamer            0.634323  30.988170  14.663087  34.487076   \n",
       "        Granny              0.588916  30.791526  14.847017  34.505563   \n",
       "        Wile E. Coyote      0.607608  33.979378  13.597009  33.304804   \n",
       "        Tweety              0.617108  34.326577  13.235996  36.841378   \n",
       "        Penelope            0.599131  24.925964  15.782910  32.294699   \n",
       "        Daffy Duck          0.630978  28.344929  13.047415  34.428239   \n",
       "\n",
       "                                 ORR        DRR       REBR        PER  \n",
       "minutes player_name                                                    \n",
       "0       Sylvester           8.291368  16.618005  12.923613  30.173179  \n",
       "        Marvin the Martian  5.776496  24.889949   9.658986  19.455369  \n",
       "        Road Runner         5.429830  32.945730  12.636393  21.474141  \n",
       "        Foghorn Leghorn     6.638625  16.054469  15.532972  30.054973  \n",
       "        Bugs Bunny          6.246224  18.335870  14.155714  29.025069  \n",
       "        Elmer Fudd          4.849980  26.609944  17.279538  28.367819  \n",
       "        Lola Bunny          4.727076  25.049148  18.980379  36.272915  \n",
       "        Porky Pig           7.158895  21.778586  13.452360  25.141616  \n",
       "        Tasmanian Devil     6.866012  25.618203   8.826248  18.821515  \n",
       "        Gossamer            4.598551  12.640675  11.353059  29.177435  \n",
       "        Granny              7.087843  20.004129  12.292431  25.269470  \n",
       "        Wile E. Coyote      4.906704  20.660172  16.280860  32.025611  \n",
       "        Tweety              7.835861  25.097258  10.041320  20.530742  \n",
       "        Penelope            8.110743  19.832420  11.028729  22.872224  \n",
       "        Daffy Duck          4.497355  17.227816  12.576463  27.854466  \n",
       "12      Sylvester           8.992893  19.637453  12.304136  27.580873  \n",
       "        Marvin the Martian  6.244673  27.403317  12.784893  19.303288  \n",
       "        Road Runner         3.889371  22.557890  14.054147  28.689262  \n",
       "        Foghorn Leghorn     6.650476  20.259025  13.507172  28.225252  \n",
       "        Bugs Bunny          6.084996  19.382922  13.375058  27.914990  \n",
       "        Elmer Fudd          3.428260  21.657458  16.278352  28.750482  \n",
       "        Lola Bunny          3.432731  20.342285  15.430639  32.665908  \n",
       "        Porky Pig           5.733466  15.344101  17.124522  34.353361  \n",
       "        Tasmanian Devil     3.846842  20.242585  10.601235  21.717648  \n",
       "        Gossamer            6.280130  18.102480  12.787060  26.638730  \n",
       "        Granny              5.804672  20.756333  14.128049  27.749309  \n",
       "        Wile E. Coyote      3.969422  27.206416  15.544178  26.867252  \n",
       "        Tweety              4.638423  24.112469  11.086670  21.933984  \n",
       "        Penelope            7.913219  19.474035  11.735705  23.454963  \n",
       "        Daffy Duck          6.664348  21.102062   8.681562  20.615987  \n",
       "24      Sylvester           8.894365  18.602901  13.257071  27.965655  \n",
       "        Marvin the Martian  6.360898  22.456428  13.242315  23.474573  \n",
       "        Road Runner         6.137822  22.061396  13.190292  28.102143  \n",
       "        Foghorn Leghorn     4.379005  17.430690  10.336524  25.493123  \n",
       "        Bugs Bunny          6.315744  20.457279  13.814475  29.783697  \n",
       "        Elmer Fudd          0.977904  29.044575   7.781147  16.066450  \n",
       "        Lola Bunny          1.694322  15.010496  15.868814  36.202717  \n",
       "        Porky Pig           6.815867  19.107484  15.105082  30.132400  \n",
       "        Tasmanian Devil     3.351791  21.710263  11.276085  25.702114  \n",
       "        Gossamer            5.844077  21.951310  17.220782  32.946921  \n",
       "        Granny              5.936195  23.221612  13.331159  24.942086  \n",
       "        Wile E. Coyote      6.062379  17.464941  15.459372  32.898830  \n",
       "        Tweety              8.196159  26.040227   9.132947  16.711506  \n",
       "        Penelope            6.996488  21.393480  13.750861  22.874005  \n",
       "        Daffy Duck          3.772030  18.342402  16.002797  32.945491  \n",
       "36      Sylvester           9.345638  15.524003  11.095255  27.302369  \n",
       "        Marvin the Martian  7.486531  31.433403  14.720455  18.305655  \n",
       "        Road Runner         6.139119  20.046784  11.675861  26.982734  \n",
       "        Foghorn Leghorn     6.016086  17.376810  16.353749  31.623273  \n",
       "        Bugs Bunny          7.293702  21.263802  15.849443  29.445780  \n",
       "        Elmer Fudd          4.770026  20.626379  14.854946  26.841028  \n",
       "        Lola Bunny          4.081365  20.551012  14.871265  31.934803  \n",
       "        Porky Pig           5.863088  13.339582  13.982285  31.471168  \n",
       "        Tasmanian Devil     6.161480  22.146442   9.588847  20.122032  \n",
       "        Gossamer            4.793830  13.254680  14.008755  33.928244  \n",
       "        Granny              5.405032  15.282672  14.283137  30.202746  \n",
       "        Wile E. Coyote      7.255055  22.778072  13.641699  25.558959  \n",
       "        Tweety              9.060083  25.253197  14.315170  27.401820  \n",
       "        Penelope            8.333499  19.490244   9.779840  18.770286  \n",
       "        Daffy Duck          6.291702  17.509744  15.376611  33.227913  "
      ],
      "text/html": "<div>\n<style scoped>\n    .dataframe tbody tr th:only-of-type {\n        vertical-align: middle;\n    }\n\n    .dataframe tbody tr th {\n        vertical-align: top;\n    }\n\n    .dataframe thead th {\n        text-align: right;\n    }\n</style>\n<table border=\"1\" class=\"dataframe\">\n  <thead>\n    <tr style=\"text-align: right;\">\n      <th></th>\n      <th></th>\n      <th>TS%</th>\n      <th>AST</th>\n      <th>TO</th>\n      <th>USG</th>\n      <th>ORR</th>\n      <th>DRR</th>\n      <th>REBR</th>\n      <th>PER</th>\n    </tr>\n    <tr>\n      <th>minutes</th>\n      <th>player_name</th>\n      <th></th>\n      <th></th>\n      <th></th>\n      <th></th>\n      <th></th>\n      <th></th>\n      <th></th>\n      <th></th>\n    </tr>\n  </thead>\n  <tbody>\n    <tr>\n      <th rowspan=\"15\" valign=\"top\">0</th>\n      <th>Sylvester</th>\n      <td>0.627804</td>\n      <td>30.605824</td>\n      <td>15.407508</td>\n      <td>37.050682</td>\n      <td>8.291368</td>\n      <td>16.618005</td>\n      <td>12.923613</td>\n      <td>30.173179</td>\n    </tr>\n    <tr>\n      <th>Marvin the Martian</th>\n      <td>0.616650</td>\n      <td>30.858868</td>\n      <td>14.339997</td>\n      <td>34.251295</td>\n      <td>5.776496</td>\n      <td>24.889949</td>\n      <td>9.658986</td>\n      <td>19.455369</td>\n    </tr>\n    <tr>\n      <th>Road Runner</th>\n      <td>0.625375</td>\n      <td>30.327803</td>\n      <td>14.198592</td>\n      <td>38.033652</td>\n      <td>5.429830</td>\n      <td>32.945730</td>\n      <td>12.636393</td>\n      <td>21.474141</td>\n    </tr>\n    <tr>\n      <th>Foghorn Leghorn</th>\n      <td>0.629400</td>\n      <td>29.477092</td>\n      <td>16.305858</td>\n      <td>30.398764</td>\n      <td>6.638625</td>\n      <td>16.054469</td>\n      <td>15.532972</td>\n      <td>30.054973</td>\n    </tr>\n    <tr>\n      <th>Bugs Bunny</th>\n      <td>0.635023</td>\n      <td>31.299344</td>\n      <td>15.240370</td>\n      <td>32.242698</td>\n      <td>6.246224</td>\n      <td>18.335870</td>\n      <td>14.155714</td>\n      <td>29.025069</td>\n    </tr>\n    <tr>\n      <th>Elmer Fudd</th>\n      <td>0.606522</td>\n      <td>27.663836</td>\n      <td>14.132228</td>\n      <td>34.155710</td>\n      <td>4.849980</td>\n      <td>26.609944</td>\n      <td>17.279538</td>\n      <td>28.367819</td>\n    </tr>\n    <tr>\n      <th>Lola Bunny</th>\n      <td>0.629215</td>\n      <td>38.301638</td>\n      <td>13.960735</td>\n      <td>37.682314</td>\n      <td>4.727076</td>\n      <td>25.049148</td>\n      <td>18.980379</td>\n      <td>36.272915</td>\n    </tr>\n    <tr>\n      <th>Porky Pig</th>\n      <td>0.620064</td>\n      <td>28.385435</td>\n      <td>15.804618</td>\n      <td>33.756754</td>\n      <td>7.158895</td>\n      <td>21.778586</td>\n      <td>13.452360</td>\n      <td>25.141616</td>\n    </tr>\n    <tr>\n      <th>Tasmanian Devil</th>\n      <td>0.614479</td>\n      <td>27.070016</td>\n      <td>13.958168</td>\n      <td>36.806543</td>\n      <td>6.866012</td>\n      <td>25.618203</td>\n      <td>8.826248</td>\n      <td>18.821515</td>\n    </tr>\n    <tr>\n      <th>Gossamer</th>\n      <td>0.611664</td>\n      <td>35.846031</td>\n      <td>15.048376</td>\n      <td>33.707723</td>\n      <td>4.598551</td>\n      <td>12.640675</td>\n      <td>11.353059</td>\n      <td>29.177435</td>\n    </tr>\n    <tr>\n      <th>Granny</th>\n      <td>0.607867</td>\n      <td>29.221368</td>\n      <td>14.499400</td>\n      <td>34.603977</td>\n      <td>7.087843</td>\n      <td>20.004129</td>\n      <td>12.292431</td>\n      <td>25.269470</td>\n    </tr>\n    <tr>\n      <th>Wile E. Coyote</th>\n      <td>0.614146</td>\n      <td>30.113717</td>\n      <td>13.986441</td>\n      <td>35.184876</td>\n      <td>4.906704</td>\n      <td>20.660172</td>\n      <td>16.280860</td>\n      <td>32.025611</td>\n    </tr>\n    <tr>\n      <th>Tweety</th>\n      <td>0.610627</td>\n      <td>25.172249</td>\n      <td>13.966565</td>\n      <td>37.397716</td>\n      <td>7.835861</td>\n      <td>25.097258</td>\n      <td>10.041320</td>\n      <td>20.530742</td>\n    </tr>\n    <tr>\n      <th>Penelope</th>\n      <td>0.624044</td>\n      <td>25.455962</td>\n      <td>14.112634</td>\n      <td>32.502500</td>\n      <td>8.110743</td>\n      <td>19.832420</td>\n      <td>11.028729</td>\n      <td>22.872224</td>\n    </tr>\n    <tr>\n      <th>Daffy Duck</th>\n      <td>0.634152</td>\n      <td>23.864587</td>\n      <td>14.392068</td>\n      <td>32.585187</td>\n      <td>4.497355</td>\n      <td>17.227816</td>\n      <td>12.576463</td>\n      <td>27.854466</td>\n    </tr>\n    <tr>\n      <th rowspan=\"15\" valign=\"top\">12</th>\n      <th>Sylvester</th>\n      <td>0.623182</td>\n      <td>32.828331</td>\n      <td>14.760054</td>\n      <td>37.048478</td>\n      <td>8.992893</td>\n      <td>19.637453</td>\n      <td>12.304136</td>\n      <td>27.580873</td>\n    </tr>\n    <tr>\n      <th>Marvin the Martian</th>\n      <td>0.613970</td>\n      <td>33.941587</td>\n      <td>15.699656</td>\n      <td>30.559994</td>\n      <td>6.244673</td>\n      <td>27.403317</td>\n      <td>12.784893</td>\n      <td>19.303288</td>\n    </tr>\n    <tr>\n      <th>Road Runner</th>\n      <td>0.618509</td>\n      <td>26.655104</td>\n      <td>13.441790</td>\n      <td>35.958562</td>\n      <td>3.889371</td>\n      <td>22.557890</td>\n      <td>14.054147</td>\n      <td>28.689262</td>\n    </tr>\n    <tr>\n      <th>Foghorn Leghorn</th>\n      <td>0.638164</td>\n      <td>30.039388</td>\n      <td>15.656668</td>\n      <td>34.863327</td>\n      <td>6.650476</td>\n      <td>20.259025</td>\n      <td>13.507172</td>\n      <td>28.225252</td>\n    </tr>\n    <tr>\n      <th>Bugs Bunny</th>\n      <td>0.626782</td>\n      <td>29.389865</td>\n      <td>15.608182</td>\n      <td>34.652321</td>\n      <td>6.084996</td>\n      <td>19.382922</td>\n      <td>13.375058</td>\n      <td>27.914990</td>\n    </tr>\n    <tr>\n      <th>Elmer Fudd</th>\n      <td>0.621710</td>\n      <td>31.068462</td>\n      <td>15.417930</td>\n      <td>30.587819</td>\n      <td>3.428260</td>\n      <td>21.657458</td>\n      <td>16.278352</td>\n      <td>28.750482</td>\n    </tr>\n    <tr>\n      <th>Lola Bunny</th>\n      <td>0.634587</td>\n      <td>28.050618</td>\n      <td>14.239441</td>\n      <td>35.907694</td>\n      <td>3.432731</td>\n      <td>20.342285</td>\n      <td>15.430639</td>\n      <td>32.665908</td>\n    </tr>\n    <tr>\n      <th>Porky Pig</th>\n      <td>0.611441</td>\n      <td>28.820212</td>\n      <td>16.747406</td>\n      <td>34.997930</td>\n      <td>5.733466</td>\n      <td>15.344101</td>\n      <td>17.124522</td>\n      <td>34.353361</td>\n    </tr>\n    <tr>\n      <th>Tasmanian Devil</th>\n      <td>0.600939</td>\n      <td>24.379775</td>\n      <td>14.437137</td>\n      <td>32.877579</td>\n      <td>3.846842</td>\n      <td>20.242585</td>\n      <td>10.601235</td>\n      <td>21.717648</td>\n    </tr>\n    <tr>\n      <th>Gossamer</th>\n      <td>0.607551</td>\n      <td>32.764622</td>\n      <td>16.512705</td>\n      <td>34.756073</td>\n      <td>6.280130</td>\n      <td>18.102480</td>\n      <td>12.787060</td>\n      <td>26.638730</td>\n    </tr>\n    <tr>\n      <th>Granny</th>\n      <td>0.604841</td>\n      <td>27.206425</td>\n      <td>13.011896</td>\n      <td>33.967729</td>\n      <td>5.804672</td>\n      <td>20.756333</td>\n      <td>14.128049</td>\n      <td>27.749309</td>\n    </tr>\n    <tr>\n      <th>Wile E. Coyote</th>\n      <td>0.622624</td>\n      <td>29.652167</td>\n      <td>14.597058</td>\n      <td>34.493921</td>\n      <td>3.969422</td>\n      <td>27.206416</td>\n      <td>15.544178</td>\n      <td>26.867252</td>\n    </tr>\n    <tr>\n      <th>Tweety</th>\n      <td>0.597564</td>\n      <td>26.162937</td>\n      <td>13.664155</td>\n      <td>35.758032</td>\n      <td>4.638423</td>\n      <td>24.112469</td>\n      <td>11.086670</td>\n      <td>21.933984</td>\n    </tr>\n    <tr>\n      <th>Penelope</th>\n      <td>0.616408</td>\n      <td>24.961170</td>\n      <td>14.312722</td>\n      <td>32.376707</td>\n      <td>7.913219</td>\n      <td>19.474035</td>\n      <td>11.735705</td>\n      <td>23.454963</td>\n    </tr>\n    <tr>\n      <th>Daffy Duck</th>\n      <td>0.636969</td>\n      <td>26.918664</td>\n      <td>15.066418</td>\n      <td>34.298309</td>\n      <td>6.664348</td>\n      <td>21.102062</td>\n      <td>8.681562</td>\n      <td>20.615987</td>\n    </tr>\n    <tr>\n      <th rowspan=\"15\" valign=\"top\">24</th>\n      <th>Sylvester</th>\n      <td>0.619963</td>\n      <td>33.978248</td>\n      <td>14.388750</td>\n      <td>34.143890</td>\n      <td>8.894365</td>\n      <td>18.602901</td>\n      <td>13.257071</td>\n      <td>27.965655</td>\n    </tr>\n    <tr>\n      <th>Marvin the Martian</th>\n      <td>0.598487</td>\n      <td>30.203781</td>\n      <td>13.841644</td>\n      <td>31.757456</td>\n      <td>6.360898</td>\n      <td>22.456428</td>\n      <td>13.242315</td>\n      <td>23.474573</td>\n    </tr>\n    <tr>\n      <th>Road Runner</th>\n      <td>0.619712</td>\n      <td>31.993909</td>\n      <td>13.655067</td>\n      <td>36.616227</td>\n      <td>6.137822</td>\n      <td>22.061396</td>\n      <td>13.190292</td>\n      <td>28.102143</td>\n    </tr>\n    <tr>\n      <th>Foghorn Leghorn</th>\n      <td>0.631004</td>\n      <td>29.472382</td>\n      <td>16.954586</td>\n      <td>35.751655</td>\n      <td>4.379005</td>\n      <td>17.430690</td>\n      <td>10.336524</td>\n      <td>25.493123</td>\n    </tr>\n    <tr>\n      <th>Bugs Bunny</th>\n      <td>0.632235</td>\n      <td>34.122609</td>\n      <td>15.513997</td>\n      <td>36.578451</td>\n      <td>6.315744</td>\n      <td>20.457279</td>\n      <td>13.814475</td>\n      <td>29.783697</td>\n    </tr>\n    <tr>\n      <th>Elmer Fudd</th>\n      <td>0.616814</td>\n      <td>29.810204</td>\n      <td>16.681390</td>\n      <td>37.561010</td>\n      <td>0.977904</td>\n      <td>29.044575</td>\n      <td>7.781147</td>\n      <td>16.066450</td>\n    </tr>\n    <tr>\n      <th>Lola Bunny</th>\n      <td>0.624664</td>\n      <td>32.208888</td>\n      <td>13.650125</td>\n      <td>34.268015</td>\n      <td>1.694322</td>\n      <td>15.010496</td>\n      <td>15.868814</td>\n      <td>36.202717</td>\n    </tr>\n    <tr>\n      <th>Porky Pig</th>\n      <td>0.618983</td>\n      <td>29.598536</td>\n      <td>15.823111</td>\n      <td>35.273444</td>\n      <td>6.815867</td>\n      <td>19.107484</td>\n      <td>15.105082</td>\n      <td>30.132400</td>\n    </tr>\n    <tr>\n      <th>Tasmanian Devil</th>\n      <td>0.616287</td>\n      <td>26.566976</td>\n      <td>15.209271</td>\n      <td>38.174355</td>\n      <td>3.351791</td>\n      <td>21.710263</td>\n      <td>11.276085</td>\n      <td>25.702114</td>\n    </tr>\n    <tr>\n      <th>Gossamer</th>\n      <td>0.623345</td>\n      <td>30.004611</td>\n      <td>14.185586</td>\n      <td>35.601127</td>\n      <td>5.844077</td>\n      <td>21.951310</td>\n      <td>17.220782</td>\n      <td>32.946921</td>\n    </tr>\n    <tr>\n      <th>Granny</th>\n      <td>0.605481</td>\n      <td>29.954579</td>\n      <td>14.076107</td>\n      <td>34.208456</td>\n      <td>5.936195</td>\n      <td>23.221612</td>\n      <td>13.331159</td>\n      <td>24.942086</td>\n    </tr>\n    <tr>\n      <th>Wile E. Coyote</th>\n      <td>0.614269</td>\n      <td>32.858108</td>\n      <td>13.829659</td>\n      <td>35.118521</td>\n      <td>6.062379</td>\n      <td>17.464941</td>\n      <td>15.459372</td>\n      <td>32.898830</td>\n    </tr>\n    <tr>\n      <th>Tweety</th>\n      <td>0.606795</td>\n      <td>25.086979</td>\n      <td>13.442209</td>\n      <td>34.144434</td>\n      <td>8.196159</td>\n      <td>26.040227</td>\n      <td>9.132947</td>\n      <td>16.711506</td>\n    </tr>\n    <tr>\n      <th>Penelope</th>\n      <td>0.619339</td>\n      <td>21.339692</td>\n      <td>14.602006</td>\n      <td>28.922255</td>\n      <td>6.996488</td>\n      <td>21.393480</td>\n      <td>13.750861</td>\n      <td>22.874005</td>\n    </tr>\n    <tr>\n      <th>Daffy Duck</th>\n      <td>0.615795</td>\n      <td>34.289271</td>\n      <td>14.498480</td>\n      <td>34.125514</td>\n      <td>3.772030</td>\n      <td>18.342402</td>\n      <td>16.002797</td>\n      <td>32.945491</td>\n    </tr>\n    <tr>\n      <th rowspan=\"15\" valign=\"top\">36</th>\n      <th>Sylvester</th>\n      <td>0.623608</td>\n      <td>29.017247</td>\n      <td>15.424915</td>\n      <td>36.481418</td>\n      <td>9.345638</td>\n      <td>15.524003</td>\n      <td>11.095255</td>\n      <td>27.302369</td>\n    </tr>\n    <tr>\n      <th>Marvin the Martian</th>\n      <td>0.595691</td>\n      <td>28.158937</td>\n      <td>16.576260</td>\n      <td>32.598561</td>\n      <td>7.486531</td>\n      <td>31.433403</td>\n      <td>14.720455</td>\n      <td>18.305655</td>\n    </tr>\n    <tr>\n      <th>Road Runner</th>\n      <td>0.630776</td>\n      <td>32.476801</td>\n      <td>13.464371</td>\n      <td>34.865749</td>\n      <td>6.139119</td>\n      <td>20.046784</td>\n      <td>11.675861</td>\n      <td>26.982734</td>\n    </tr>\n    <tr>\n      <th>Foghorn Leghorn</th>\n      <td>0.609252</td>\n      <td>27.257600</td>\n      <td>15.696951</td>\n      <td>33.936204</td>\n      <td>6.016086</td>\n      <td>17.376810</td>\n      <td>16.353749</td>\n      <td>31.623273</td>\n    </tr>\n    <tr>\n      <th>Bugs Bunny</th>\n      <td>0.627290</td>\n      <td>31.299575</td>\n      <td>15.952183</td>\n      <td>33.883072</td>\n      <td>7.293702</td>\n      <td>21.263802</td>\n      <td>15.849443</td>\n      <td>29.445780</td>\n    </tr>\n    <tr>\n      <th>Elmer Fudd</th>\n      <td>0.617206</td>\n      <td>31.388085</td>\n      <td>16.923140</td>\n      <td>31.968008</td>\n      <td>4.770026</td>\n      <td>20.626379</td>\n      <td>14.854946</td>\n      <td>26.841028</td>\n    </tr>\n    <tr>\n      <th>Lola Bunny</th>\n      <td>0.625444</td>\n      <td>31.553053</td>\n      <td>12.178814</td>\n      <td>34.852181</td>\n      <td>4.081365</td>\n      <td>20.551012</td>\n      <td>14.871265</td>\n      <td>31.934803</td>\n    </tr>\n    <tr>\n      <th>Porky Pig</th>\n      <td>0.611042</td>\n      <td>30.531983</td>\n      <td>15.296561</td>\n      <td>33.859060</td>\n      <td>5.863088</td>\n      <td>13.339582</td>\n      <td>13.982285</td>\n      <td>31.471168</td>\n    </tr>\n    <tr>\n      <th>Tasmanian Devil</th>\n      <td>0.606098</td>\n      <td>24.761660</td>\n      <td>14.913487</td>\n      <td>35.387811</td>\n      <td>6.161480</td>\n      <td>22.146442</td>\n      <td>9.588847</td>\n      <td>20.122032</td>\n    </tr>\n    <tr>\n      <th>Gossamer</th>\n      <td>0.634323</td>\n      <td>30.988170</td>\n      <td>14.663087</td>\n      <td>34.487076</td>\n      <td>4.793830</td>\n      <td>13.254680</td>\n      <td>14.008755</td>\n      <td>33.928244</td>\n    </tr>\n    <tr>\n      <th>Granny</th>\n      <td>0.588916</td>\n      <td>30.791526</td>\n      <td>14.847017</td>\n      <td>34.505563</td>\n      <td>5.405032</td>\n      <td>15.282672</td>\n      <td>14.283137</td>\n      <td>30.202746</td>\n    </tr>\n    <tr>\n      <th>Wile E. Coyote</th>\n      <td>0.607608</td>\n      <td>33.979378</td>\n      <td>13.597009</td>\n      <td>33.304804</td>\n      <td>7.255055</td>\n      <td>22.778072</td>\n      <td>13.641699</td>\n      <td>25.558959</td>\n    </tr>\n    <tr>\n      <th>Tweety</th>\n      <td>0.617108</td>\n      <td>34.326577</td>\n      <td>13.235996</td>\n      <td>36.841378</td>\n      <td>9.060083</td>\n      <td>25.253197</td>\n      <td>14.315170</td>\n      <td>27.401820</td>\n    </tr>\n    <tr>\n      <th>Penelope</th>\n      <td>0.599131</td>\n      <td>24.925964</td>\n      <td>15.782910</td>\n      <td>32.294699</td>\n      <td>8.333499</td>\n      <td>19.490244</td>\n      <td>9.779840</td>\n      <td>18.770286</td>\n    </tr>\n    <tr>\n      <th>Daffy Duck</th>\n      <td>0.630978</td>\n      <td>28.344929</td>\n      <td>13.047415</td>\n      <td>34.428239</td>\n      <td>6.291702</td>\n      <td>17.509744</td>\n      <td>15.376611</td>\n      <td>33.227913</td>\n    </tr>\n  </tbody>\n</table>\n</div>"
     },
     "metadata": {},
     "execution_count": 11
    }
   ],
   "source": [
    "# Initialize four empty DataFrames, one for each 12-minute period.\n",
    "number_of_iterations = 4\n",
    "df_list = [pd.DataFrame(columns=game_stat_cols, index=list(ts_df['player_name'])) for i in range(number_of_iterations)]\n",
    "\n",
    "# For each period, generate randomized player data and predict the PER.\n",
    "# Use the model fitted earlier.\n",
    "for df in df_list:\n",
    "    for stat in game_stat_cols:\n",
    "        df[stat] = list(ts_df[stat] + randn(len(ts_df)) * stdev_s[stat])\n",
    "    df['PER'] = lin_reg.predict(df)\n",
    "\n",
    "# Concatenate the DataFrames and make the players' names the index.\n",
    "game_df = pd.concat(df_list)\n",
    "game_df.rename_axis('player_name', inplace=True)\n",
    "\n",
    "# Create another index for the period in question.\n",
    "minutes = [(x // len(ts_df)) * 12 for x in range(len(game_df))]\n",
    "game_df['minutes'] = minutes\n",
    "game_df.set_index('minutes', append=True, inplace=True)\n",
    "game_df = game_df.swaplevel()\n",
    "\n",
    "game_df"
   ]
  },
  {
   "cell_type": "code",
   "execution_count": 12,
   "metadata": {},
   "outputs": [],
   "source": [
    "# Export the finished DataFrame to CSV.\n",
    "game_df.to_csv('game_stats.csv')"
   ]
  },
  {
   "cell_type": "code",
   "execution_count": null,
   "metadata": {},
   "outputs": [],
   "source": []
  }
 ]
}