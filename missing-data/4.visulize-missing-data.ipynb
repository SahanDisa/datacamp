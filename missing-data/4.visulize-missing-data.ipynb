{
 "cells": [
  {
   "cell_type": "markdown",
   "metadata": {},
   "source": [
    "# Demo 4 : Examine the Missing Values"
   ]
  },
  {
   "cell_type": "markdown",
   "metadata": {},
   "source": [
    "# Exercise: Titanic Dataset - Find and Visualize Missing Data\n",
    "\n",
    "It is quite common for datasets to have data missing, which can cause problems when we perform machine learning. Missing data can be hard to spot at a first glance.\n",
    "\n",
    "Recall our scenario - we have obtained a list of passengers on the Titanic's failed maiden voyage and would like to try to figure out which kinds of things predicted whether a passenger would survive. Our first task, which we will perform here, is to check whether our dataset has missing information.\n",
    "\n",
    "## Preparing data\n",
    "\n",
    "Let's use Pandas to load the dataset and take a cursory look at it:"
   ]
  },
  {
   "cell_type": "code",
   "execution_count": 1,
   "metadata": {},
   "outputs": [
    {
     "data": {
      "text/html": [
       "<div>\n",
       "<style scoped>\n",
       "    .dataframe tbody tr th:only-of-type {\n",
       "        vertical-align: middle;\n",
       "    }\n",
       "\n",
       "    .dataframe tbody tr th {\n",
       "        vertical-align: top;\n",
       "    }\n",
       "\n",
       "    .dataframe thead th {\n",
       "        text-align: right;\n",
       "    }\n",
       "</style>\n",
       "<table border=\"1\" class=\"dataframe\">\n",
       "  <thead>\n",
       "    <tr style=\"text-align: right;\">\n",
       "      <th></th>\n",
       "      <th>PassengerId</th>\n",
       "      <th>Survived</th>\n",
       "      <th>Pclass</th>\n",
       "      <th>Name</th>\n",
       "      <th>Sex</th>\n",
       "      <th>Age</th>\n",
       "      <th>SibSp</th>\n",
       "      <th>Parch</th>\n",
       "      <th>Ticket</th>\n",
       "      <th>Fare</th>\n",
       "      <th>Cabin</th>\n",
       "      <th>Embarked</th>\n",
       "    </tr>\n",
       "  </thead>\n",
       "  <tbody>\n",
       "    <tr>\n",
       "      <th>0</th>\n",
       "      <td>1</td>\n",
       "      <td>0</td>\n",
       "      <td>3</td>\n",
       "      <td>Braund, Mr. Owen Harris</td>\n",
       "      <td>male</td>\n",
       "      <td>22.0</td>\n",
       "      <td>1</td>\n",
       "      <td>0</td>\n",
       "      <td>A/5 21171</td>\n",
       "      <td>7.2500</td>\n",
       "      <td>NaN</td>\n",
       "      <td>S</td>\n",
       "    </tr>\n",
       "    <tr>\n",
       "      <th>1</th>\n",
       "      <td>2</td>\n",
       "      <td>1</td>\n",
       "      <td>1</td>\n",
       "      <td>Cumings, Mrs. John Bradley (Florence Briggs Th...</td>\n",
       "      <td>female</td>\n",
       "      <td>38.0</td>\n",
       "      <td>1</td>\n",
       "      <td>0</td>\n",
       "      <td>PC 17599</td>\n",
       "      <td>71.2833</td>\n",
       "      <td>C85</td>\n",
       "      <td>C</td>\n",
       "    </tr>\n",
       "    <tr>\n",
       "      <th>2</th>\n",
       "      <td>3</td>\n",
       "      <td>1</td>\n",
       "      <td>3</td>\n",
       "      <td>Heikkinen, Miss. Laina</td>\n",
       "      <td>female</td>\n",
       "      <td>26.0</td>\n",
       "      <td>0</td>\n",
       "      <td>0</td>\n",
       "      <td>STON/O2. 3101282</td>\n",
       "      <td>7.9250</td>\n",
       "      <td>NaN</td>\n",
       "      <td>S</td>\n",
       "    </tr>\n",
       "    <tr>\n",
       "      <th>3</th>\n",
       "      <td>4</td>\n",
       "      <td>1</td>\n",
       "      <td>1</td>\n",
       "      <td>Futrelle, Mrs. Jacques Heath (Lily May Peel)</td>\n",
       "      <td>female</td>\n",
       "      <td>35.0</td>\n",
       "      <td>1</td>\n",
       "      <td>0</td>\n",
       "      <td>113803</td>\n",
       "      <td>53.1000</td>\n",
       "      <td>C123</td>\n",
       "      <td>S</td>\n",
       "    </tr>\n",
       "    <tr>\n",
       "      <th>4</th>\n",
       "      <td>5</td>\n",
       "      <td>0</td>\n",
       "      <td>3</td>\n",
       "      <td>Allen, Mr. William Henry</td>\n",
       "      <td>male</td>\n",
       "      <td>35.0</td>\n",
       "      <td>0</td>\n",
       "      <td>0</td>\n",
       "      <td>373450</td>\n",
       "      <td>8.0500</td>\n",
       "      <td>NaN</td>\n",
       "      <td>S</td>\n",
       "    </tr>\n",
       "  </tbody>\n",
       "</table>\n",
       "</div>"
      ],
      "text/plain": [
       "   PassengerId  Survived  Pclass  \\\n",
       "0            1         0       3   \n",
       "1            2         1       1   \n",
       "2            3         1       3   \n",
       "3            4         1       1   \n",
       "4            5         0       3   \n",
       "\n",
       "                                                Name     Sex   Age  SibSp  \\\n",
       "0                            Braund, Mr. Owen Harris    male  22.0      1   \n",
       "1  Cumings, Mrs. John Bradley (Florence Briggs Th...  female  38.0      1   \n",
       "2                             Heikkinen, Miss. Laina  female  26.0      0   \n",
       "3       Futrelle, Mrs. Jacques Heath (Lily May Peel)  female  35.0      1   \n",
       "4                           Allen, Mr. William Henry    male  35.0      0   \n",
       "\n",
       "   Parch            Ticket     Fare Cabin Embarked  \n",
       "0      0         A/5 21171   7.2500   NaN        S  \n",
       "1      0          PC 17599  71.2833   C85        C  \n",
       "2      0  STON/O2. 3101282   7.9250   NaN        S  \n",
       "3      0            113803  53.1000  C123        S  \n",
       "4      0            373450   8.0500   NaN        S  "
      ]
     },
     "execution_count": 1,
     "metadata": {},
     "output_type": "execute_result"
    }
   ],
   "source": [
    "import pandas as pd\n",
    "\n",
    "# Load data from our dataset file into a pandas dataframe\n",
    "dataset = pd.read_csv('titanic.csv', index_col=False, sep=\",\", header=0)\n",
    "\n",
    "# Let's take a look at the data\n",
    "dataset.head()\n"
   ]
  },
  {
   "cell_type": "markdown",
   "metadata": {},
   "source": [
    "And now a quick peek at how many samples and columns we have:\n",
    "\n"
   ]
  },
  {
   "cell_type": "code",
   "execution_count": 2,
   "metadata": {},
   "outputs": [
    {
     "name": "stdout",
     "output_type": "stream",
     "text": [
      "(891, 12)\n"
     ]
    }
   ],
   "source": [
    "# Shape tells us how many rows and columns we have\n",
    "print(dataset.shape)"
   ]
  },
  {
   "cell_type": "markdown",
   "metadata": {},
   "source": [
    "We have data for 891 passengers, each described by 12 different variables.\n",
    "\n",
    "## Finding Missing Data\n",
    "\n",
    "Do we have a complete dataset?\n",
    "\n",
    "No. We know from history that there were more than 2000 people on the Titanic, so we know straight away that we are missing information on more than 1000 people! \n",
    "\n",
    "How can we tell whether what's left is complete?\n",
    "\n",
    "We could print the entire dataset, but this would be prone to human error and impractical with this many samples.\n",
    "\n",
    "A better options is to use `pandas` to report columns that have \"empty\" cells:"
   ]
  },
  {
   "cell_type": "code",
   "execution_count": null,
   "metadata": {},
   "outputs": [],
   "source": [
    "# Calculate the number of empty cells in each column\n",
    "# The following line consists of three commands. Try\n",
    "# to think about how they work together to calculate\n",
    "# the number of missing entries per column\n",
    "missing_data = dataset.isnull().sum().to_frame()\n",
    "\n",
    "# Rename column holding the sums\n",
    "missing_data = missing_data.rename(columns={0:'Empty Cells'})\n",
    "\n",
    "# Print the results\n",
    "print(missing_data)"
   ]
  },
  {
   "cell_type": "markdown",
   "metadata": {},
   "source": [
    "It looks like we don't know the age of 177 passengers, nor whether 2 of them even embarked.\n",
    "\n",
    "Cabin information for a whopping 687 persons is also missing.\n",
    "\n",
    "## Missing Data Visualizations\n",
    "\n",
    "Sometimes it can be helpful to visualise whether missing data form some kind of pattern.   \n",
    "\n",
    "There's a few ways we can plot the absence of data. One of the most helpful is to literally plot gaps in the dataset:"
   ]
  },
  {
   "cell_type": "code",
   "execution_count": 3,
   "metadata": {},
   "outputs": [
    {
     "data": {
      "text/plain": [
       "<matplotlib.axes._subplots.AxesSubplot at 0x2a74d574438>"
      ]
     },
     "execution_count": 3,
     "metadata": {},
     "output_type": "execute_result"
    },
    {
     "data": {
      "image/png": "[encoded data removed]",
      "text/plain": [
       "<Figure size 720x360 with 2 Axes>"
      ]
     },
     "metadata": {
      "needs_background": "light"
     },
     "output_type": "display_data"
    }
   ],
   "source": [
    "# import missingno package\n",
    "import missingno as msno\n",
    "\n",
    "# Plot a matrix chart, set chart and font size\n",
    "msno.matrix(dataset, figsize=(10,5), fontsize=11)"
   ]
  },
  {
   "cell_type": "markdown",
   "metadata": {},
   "source": [
    "The white bars in the graph show where data are missing. Here, the patterns are not clear visually, but it could it be that many passengers missing `Age` information are also missing `Cabin` information?\n",
    "\n",
    "## Identifying Individual Passengers with Missing Information.\n",
    "\n",
    "Let's use pandas to get a list of passengers whose age we don't know:"
   ]
  },
  {
   "cell_type": "code",
   "execution_count": null,
   "metadata": {},
   "outputs": [],
   "source": [
    "# Select Passengers with unknown age\n",
    "# Notice how we use .isnull() rows with no value\n",
    "unknown_age = dataset[dataset[\"Age\"].isnull()]\n",
    "\n",
    "# Print only the colums we want for the moment (to better fit the screen)\n",
    "# limit output to 20 rows\n",
    "unknown_age[[\"PassengerId\",\"Name\", \"Survived\", \"Age\"]][:20]"
   ]
  },
  {
   "cell_type": "markdown",
   "metadata": {},
   "source": [
    "This technique can be used to list the passengers with missing `Cabin` or `Embarked` information as well. Let's combine these using a `AND` to see how many passengers are missing both Cabin and Age information\n"
   ]
  },
  {
   "cell_type": "code",
   "execution_count": null,
   "metadata": {},
   "outputs": [],
   "source": [
    "# Find those missing age or cabin information\n",
    "missing_age = dataset[\"Age\"].isnull()\n",
    "missing_cabin = dataset[\"Cabin\"].isnull()\n",
    "\n",
    "# Find those missing both\n",
    "unknown_age_and_cabin = dataset[missing_age & missing_cabin]\n",
    "print(\"Number of passengers missing age and cabin information:\", len(unknown_age_and_cabin))"
   ]
  },
  {
   "cell_type": "markdown",
   "metadata": {},
   "source": [
    "Our suspicions were correct - most passengers missing age information are also missing cabin information. \n",
    "\n",
    "Normally, from here, we would want to know _why_ we have this issue. A good hypothesis is that information was not collected well for the passengers with the cheap tickets. \n",
    "\n",
    "Let's plot a histogram of ticket classes, and another of just people missing information. "
   ]
  },
  {
   "cell_type": "code",
   "execution_count": null,
   "metadata": {},
   "outputs": [],
   "source": [
    "import graphing\n",
    "\n",
    "# 'graphing' is custom code we use to make graphs quickly.\n",
    "# If you would like to read it in detail, it can be found\n",
    "# in our GitHub repository\n",
    "graphing.histogram(dataset, 'Pclass', title='Ticket Class (All Passengers)', show=True)\n",
    "graphing.histogram(unknown_age_and_cabin, 'Pclass', title='Ticket Class (Passengers Missing Cabin and Age Information)')"
   ]
  },
  {
   "cell_type": "markdown",
   "metadata": {},
   "source": [
    "It seems that those missing information typically were passengers with cheaper tickets. These sorts of biases might cause problems in real-world analyses.\n",
    "\n",
    "## Missing as Zero\n",
    "\n",
    "Another issue to watch for is that some datasets may have missing values appearing as zero. While the Titanic dataset does not have this problem, let's see what would have happened had this been the case \n"
   ]
  },
  {
   "cell_type": "code",
   "execution_count": null,
   "metadata": {},
   "outputs": [],
   "source": [
    "import numpy as np\n",
    "\n",
    "# Print out the average age of passengers we have age data for\n",
    "mean_age = np.mean(dataset.Age)\n",
    "print(\"The average age on the ship was\", mean_age, \"years old\")\n",
    "\n",
    "# Now make another model where missing ages contained a 0\n",
    "dataset['Age_2'] = dataset['Age'].fillna(0)\n",
    "mean_age = np.mean(dataset.Age_2)\n",
    "print(\"The average age on the ship was\", mean_age, \"years old\")"
   ]
  },
  {
   "cell_type": "markdown",
   "metadata": {},
   "source": [
    "What has happened here? Our analyses have considered the values of `0` to not be 'missing' but rather to be actual ages.\n",
    "\n",
    "This goes to show that it can be important to time looking at your raw data before running analyses. Another fast way to get a feel for a dataset is to graph how it is distributed:"
   ]
  },
  {
   "cell_type": "code",
   "execution_count": null,
   "metadata": {},
   "outputs": [],
   "source": [
    "graphing.histogram(dataset, label_x=\"Age_2\")"
   ]
  },
  {
   "cell_type": "markdown",
   "metadata": {},
   "source": [
    "In this case, we notice an unlikely number of very young children. This would be cause for futher inspection of the data, and hopefully help us spot that the missing ages appear as zeros.\n",
    "\n",
    "## Handling Missing Data\n",
    "\n",
    "There are many ways to address missing data, each with pros and cons.\n",
    "\n",
    "Let's take a look at the less complicated options:\n",
    "\n",
    "### Option 1: Delete data with missing rows\n",
    "\n",
    "When we have a model that cannot handle missing data, the most prudent thing to do is to remove rows that have information missing.\n",
    "\n",
    "Let's remove some data from the `Embarked` column, which only has two rows with missing data."
   ]
  },
  {
   "cell_type": "code",
   "execution_count": null,
   "metadata": {},
   "outputs": [],
   "source": [
    "# Create a \"clean\" dataset where we cumulatively fix missing values\n",
    "# Start by removing rows ONLY where \"Embarked\" has no values\n",
    "print(f\"The original size of our dataset was\", dataset.shape)\n",
    "clean_dataset = dataset.dropna(subset=[\"Embarked\"])\n",
    "clean_dataset = clean_dataset.reindex()\n",
    "\n",
    "# How many rows do we have now?\n",
    "print(\"The shape for the clean dataset is\", clean_dataset.shape)"
   ]
  },
  {
   "cell_type": "markdown",
   "metadata": {},
   "source": [
    "We can see that the offending two rows are not present in our new clean dataset.\n",
    "\n",
    "### Option 2: Replace empty values with the mean or median for that data.\n",
    "\n",
    "In some circumstances, our model cannot handle missing values, and we also cannot afford to remove too much data. If this is the case, sometimes we can fill missing data with the average of the rest of the dataset. Note that imputing data like this can sometimes negatively affect model performance. Usually it is better to simply remove data that are missing, or to use a model that is designed to handle missing values.\n",
    "\n",
    "Below, we impute data for the `Age` field. We use the mean `Age` from the remaining rows, given that >80% of these are not empty:"
   ]
  },
  {
   "cell_type": "code",
   "execution_count": null,
   "metadata": {},
   "outputs": [],
   "source": [
    "# Calculate the mean value for the Age column\n",
    "mean_age = clean_dataset[\"Age\"].mean()\n",
    "\n",
    "print(\"The mean age is\", mean_age)\n",
    "\n",
    "# Replace empty values in \"Age\" with the mean calculated above\n",
    "clean_dataset[\"Age\"].fillna(mean_age, inplace=True)\n",
    "\n",
    "# Let's see what the clean dataset looks like now\n",
    "print(clean_dataset.isnull().sum().to_frame().rename(columns={0:'Empty Cells'}))"
   ]
  },
  {
   "cell_type": "markdown",
   "metadata": {},
   "source": [
    "As you can see above, the `Age` field has no empty cells anymore.\n",
    "\n",
    "### Option 3: Assign a new category to unknown categorical data\n",
    "\n",
    "The `Cabin` field is a categorical field because there's a finite number of possible options for cabins in the Titanic. Unfortunately, many records have no cabin listed.\n",
    "\n",
    "For this exercise it makes perfect sense to create an `Unknown` category and assign it to the cases where the cabin is unknown:"
   ]
  },
  {
   "cell_type": "code",
   "execution_count": null,
   "metadata": {},
   "outputs": [],
   "source": [
    "# Assign unknow to records where \"Cabin\" is empty\n",
    "clean_dataset[\"Cabin\"].fillna(\"Unknown\", inplace=True)\n",
    "\n",
    "# Let's see what the clean dataset looks like now\n",
    "print(clean_dataset.isnull().sum().to_frame().rename(columns={0:'Empty Cells'}))"
   ]
  },
  {
   "cell_type": "markdown",
   "metadata": {},
   "source": [
    "That's it! No more missing data!\n",
    "\n",
    "We only lost two records (where `Embarked` was empty).\n",
    "\n",
    "That said, we had to make some approximations to fill the missing gaps for the `Age` and `Cabin` columns, and those will certainly influence the performance of any model we train on this data.\n",
    "\n",
    "## Summary\n",
    "\n",
    "Missing values can adversely affect the way a Machine Learning model works, so it is important to quickly verify if there are gaps in the data and where they are located.\n",
    "\n",
    "You are now able to get a \"big picture\" of what is missing, by using lists and charts, and also to select only the specific items that need to be addressed.\n",
    "\n",
    "In this exercise, we practiced:\n",
    "\n",
    "- Finding and visualizing missing values in a dataset using the `pandas` and `missingno` packages.\n",
    "- Checking whether a dataset uses the value 0 to represent missing values.\n",
    "- Dealing with missing data in three ways: removing the rows containing missing values, replacing the missing values with the mean or median of that particular feature, and creating a new `Unknown` category if dealing with categorical data."
   ]
  }
 ],
 "metadata": {
  "interpreter": {
   "hash": "f7b6bb42013a5637481957308d5a7306471b0750c3dc1fade55b6a2f7e8aac12"
  },
  "kernelspec": {
   "display_name": "Python 3.7.10 64-bit ('ml_crash_course': conda)",
   "language": "python",
   "name": "python3"
  },
  "language_info": {
   "codemirror_mode": {
    "name": "ipython",
    "version": 3
   },
   "file_extension": ".py",
   "mimetype": "text/x-python",
   "name": "python",
   "nbconvert_exporter": "python",
   "pygments_lexer": "ipython3",
   "version": "3.6.8"
  },
  "metadata": {
   "interpreter": {
    "hash": "5fd7d2d989b956829c9ad45cc6f2d78f0054d35d23dba8942e8fbd9b2870e6f3"
   }
  }
 },
 "nbformat": 4,
 "nbformat_minor": 2
}
